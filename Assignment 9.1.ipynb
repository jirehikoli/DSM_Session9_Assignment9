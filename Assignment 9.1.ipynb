{
 "cells": [
  {
   "cell_type": "code",
   "execution_count": 20,
   "metadata": {},
   "outputs": [],
   "source": [
    "import pandas as pd\n",
    "df = pd.read_csv('https://raw.githubusercontent.com/guipsamora/pandas_exercises/master/06_Stats/US_Baby_Names/US_Baby_Names_right.csv')\n"
   ]
  },
  {
   "cell_type": "code",
   "execution_count": 22,
   "metadata": {},
   "outputs": [
    {
     "name": "stdout",
     "output_type": "stream",
     "text": [
      "Before deleting unnamed columns\n",
      "-------------------------------\n",
      "   Unnamed: 0     Id     Name  Year Gender State  Count\n",
      "0       11349  11350     Emma  2004      F    AK     62\n",
      "1       11350  11351  Madison  2004      F    AK     48\n",
      "2       11351  11352   Hannah  2004      F    AK     46\n",
      "3       11352  11353    Grace  2004      F    AK     44\n",
      "4       11353  11354    Emily  2004      F    AK     41\n"
     ]
    }
   ],
   "source": [
    "print(\"Before deleting unnamed columns\")\n",
    "print('-'*31, sep='')\n",
    "print(df.head())"
   ]
  },
  {
   "cell_type": "code",
   "execution_count": 23,
   "metadata": {},
   "outputs": [
    {
     "name": "stdout",
     "output_type": "stream",
     "text": [
      "\n",
      "After deleting unnamed columns\n",
      "------------------------------\n",
      "      Id     Name  Year Gender State  Count\n",
      "0  11350     Emma  2004      F    AK     62\n",
      "1  11351  Madison  2004      F    AK     48\n",
      "2  11352   Hannah  2004      F    AK     46\n",
      "3  11353    Grace  2004      F    AK     44\n",
      "4  11354    Emily  2004      F    AK     41\n"
     ]
    }
   ],
   "source": [
    "print(\"\\nAfter deleting unnamed columns\")\n",
    "print('-'*30, sep='')\n",
    "del df['Unnamed: 0']\n",
    "print(df.head())"
   ]
  },
  {
   "cell_type": "code",
   "execution_count": 24,
   "metadata": {},
   "outputs": [
    {
     "name": "stdout",
     "output_type": "stream",
     "text": [
      "\n",
      "Distribution of Male and Female\n",
      "-------------------------------\n",
      "Total number of Males are 457549\n",
      "Total number of Females are 558846\n",
      "-------------------------------\n",
      "\n",
      "Top 5 most preferred names\n",
      "---------------------------\n"
     ]
    }
   ],
   "source": [
    "print(\"\\nDistribution of Male and Female\")\n",
    "print('-'*31, sep='')\n",
    "print(\"Total number of Males are %d\"%len(df[df.Gender=='M']))\n",
    "print(\"Total number of Females are %d\"%len(df[df.Gender=='F']))\n",
    "print('-'*31, sep='')\n",
    "print(\"\\nTop 5 most preferred names\")\n",
    "print('-'*27, sep='')"
   ]
  },
  {
   "cell_type": "code",
   "execution_count": 25,
   "metadata": {},
   "outputs": [],
   "source": [
    "result =df.groupby(['Name'])[\"Count\"].sum() # Grouping on the basis of Name and adding their count occurences"
   ]
  },
  {
   "cell_type": "code",
   "execution_count": 26,
   "metadata": {},
   "outputs": [],
   "source": [
    "Top5 = result.reset_index().sort_values('Count',ascending=False).set_index('Count').head(5) # Show the top 5 most preferred names"
   ]
  },
  {
   "cell_type": "code",
   "execution_count": 27,
   "metadata": {},
   "outputs": [
    {
     "name": "stdout",
     "output_type": "stream",
     "text": [
      "Jacob has occurance of 242874 times\n",
      "Emma has occurance of 214852 times\n",
      "Michael has occurance of 214405 times\n",
      "Ethan has occurance of 209277 times\n",
      "Isabella has occurance of 204798 times\n",
      "\n",
      "Median is 49.000000\n"
     ]
    }
   ],
   "source": [
    "for lab, row in Top5.iterrows() :\n",
    "    print(row['Name'] + \" has occurance of \" + str(lab) + \" times\")\n",
    "    \n",
    "Median = result.median()\n",
    "print(\"\\nMedian is %f\" %Median)"
   ]
  },
  {
   "cell_type": "code",
   "execution_count": 28,
   "metadata": {},
   "outputs": [
    {
     "name": "stdout",
     "output_type": "stream",
     "text": [
      "Median name occurence in the dataset are as follows :-\n",
      "-------------------------------------------------------\n",
      "Name\n",
      "Aishani       49\n",
      "Alara         49\n",
      "Alysse        49\n",
      "Ameir         49\n",
      "Anely         49\n",
      "Antonina      49\n",
      "Aveline       49\n",
      "Aziah         49\n",
      "Baily         49\n",
      "Caleah        49\n",
      "Carlota       49\n",
      "Cristine      49\n",
      "Dahlila       49\n",
      "Darvin        49\n",
      "Deante        49\n",
      "Deserae       49\n",
      "Devean        49\n",
      "Elizah        49\n",
      "Emmaly        49\n",
      "Emmanuela     49\n",
      "Envy          49\n",
      "Esli          49\n",
      "Fay           49\n",
      "Gurshaan      49\n",
      "Hareem        49\n",
      "Iven          49\n",
      "Jaice         49\n",
      "Jaiyana       49\n",
      "Jamiracle     49\n",
      "Jelissa       49\n",
      "              ..\n",
      "Kyndle        49\n",
      "Kynsley       49\n",
      "Leylanie      49\n",
      "Maisha        49\n",
      "Malillany     49\n",
      "Mariann       49\n",
      "Marquell      49\n",
      "Maurilio      49\n",
      "Mckynzie      49\n",
      "Mehdi         49\n",
      "Nabeel        49\n",
      "Nalleli       49\n",
      "Nassir        49\n",
      "Nazier        49\n",
      "Nishant       49\n",
      "Rebecka       49\n",
      "Reghan        49\n",
      "Ridwan        49\n",
      "Riot          49\n",
      "Rubin         49\n",
      "Ryatt         49\n",
      "Sameera       49\n",
      "Sanjuanita    49\n",
      "Shalyn        49\n",
      "Skylie        49\n",
      "Sriram        49\n",
      "Trinton       49\n",
      "Vita          49\n",
      "Yoni          49\n",
      "Zuleima       49\n",
      "Name: Count, Length: 66, dtype: int64\n"
     ]
    }
   ],
   "source": [
    "print(\"Median name occurence in the dataset are as follows :-\")\n",
    "print('-'*55, sep='')\n",
    "print(result[result==int(Median)]) # Median name occurence in the dataset\n"
   ]
  },
  {
   "cell_type": "code",
   "execution_count": 29,
   "metadata": {},
   "outputs": [
    {
     "name": "stdout",
     "output_type": "stream",
     "text": [
      "-------------------------------------------------------\n",
      "Total Number of Females in Alaska are 2404\n",
      "Total Number of Females in Alabama are 9878\n",
      "Total Number of Males in Alaska are 2587\n",
      "Total Number of Males in Alabama are 8419\n",
      "-------------------------------------------------------\n"
     ]
    }
   ],
   "source": [
    "dist_gender_state_result =df.groupby(['Gender','State'])[\"Count\"].count() # Grouping of male and female born count by states\n",
    "#print(dist_gender_state_result)\n",
    "print('-'*55, sep='')\n",
    "print(\"Total Number of Females in Alaska are %d\"%dist_gender_state_result['F']['AK'])\n",
    "print(\"Total Number of Females in Alabama are %d\"%dist_gender_state_result['F']['AL'])\n",
    "print(\"Total Number of Males in Alaska are %d\"%dist_gender_state_result['M']['AK'])\n",
    "print(\"Total Number of Males in Alabama are %d\"%dist_gender_state_result['M']['AL'])\n",
    "print('-'*55, sep='')"
   ]
  }
 ],
 "metadata": {
  "kernelspec": {
   "display_name": "Python 3",
   "language": "python",
   "name": "python3"
  },
  "language_info": {
   "codemirror_mode": {
    "name": "ipython",
    "version": 3
   },
   "file_extension": ".py",
   "mimetype": "text/x-python",
   "name": "python",
   "nbconvert_exporter": "python",
   "pygments_lexer": "ipython3",
   "version": "3.7.0"
  }
 },
 "nbformat": 4,
 "nbformat_minor": 2
}
